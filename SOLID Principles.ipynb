{
 "cells": [
  {
   "cell_type": "code",
   "execution_count": 1,
   "id": "1c793f00",
   "metadata": {},
   "outputs": [
    {
     "name": "stdout",
     "output_type": "stream",
     "text": [
      "Python 3.12.2\n"
     ]
    }
   ],
   "source": [
    "!python -V"
   ]
  },
  {
   "cell_type": "markdown",
   "id": "947a39ea",
   "metadata": {},
   "source": [
    "# Single Responsibility"
   ]
  },
  {
   "cell_type": "code",
   "execution_count": 7,
   "id": "f1acb515",
   "metadata": {},
   "outputs": [],
   "source": [
    "class Employee:\n",
    "    \"\"\"\n",
    "    Class to illustrate classes which do not follow single responsibility principle\n",
    "    -------------------------------------------------------------------------------\n",
    "\n",
    "    Methods\n",
    "    ======================\n",
    "    Getters (self): Get employee personal details\n",
    "    promote_employee (self): Promote the Employee from current role.\n",
    "    transfer_employee (self, department): Transfer the employee from current department to the specified department\n",
    "    save_to_database (self): Save some data to database.\n",
    "    update_personal_details (self, personal_details): Update the personal details of the employee\n",
    "\n",
    "    Class Responsibilities\n",
    "    ======================\n",
    "    > Store and update personal details of the employee\n",
    "    > Save to database: Needs to handle database connections, know which database to connect\n",
    "    ========Organization Level Operation========\n",
    "    > Promote the employee: Might require update in different objects\n",
    "    > Transfer employee: Might require update in different objects\n",
    "    \"\"\"\n",
    "    def __init__(self, employee_id, name, department):\n",
    "        self.__employee_id = employee_id\n",
    "        self.__name = name\n",
    "        self.__depatment = department\n",
    "    \n",
    "    def get_name(self):\n",
    "        pass\n",
    "    \n",
    "    def get_department(self):\n",
    "        pass\n",
    "    \n",
    "    def promote_employee(self):\n",
    "        pass\n",
    "    \n",
    "    def transfer_employee(self, department):\n",
    "        pass\n",
    "    \n",
    "    def save_to_database(self):\n",
    "        pass\n",
    "    \n",
    "    def update_personal_details(self, personal_details):\n",
    "        pass"
   ]
  },
  {
   "cell_type": "code",
   "execution_count": 8,
   "id": "9146e532",
   "metadata": {},
   "outputs": [
    {
     "name": "stdout",
     "output_type": "stream",
     "text": [
      "\n",
      "    Class to illustrate classes which do not follow single responsibility principle\n",
      "    -------------------------------------------------------------------------------\n",
      "\n",
      "    Methods\n",
      "    ======================\n",
      "    Getters (self): Get employee personal details\n",
      "    promote_employee (self): Promote the Employee from current role.\n",
      "    transfer_employee (self, department): Transfer the employee from current department to the specified department\n",
      "    save_to_database (self): Save some data to database.\n",
      "    update_personal_details (self, personal_details): Update the personal details of the employee\n",
      "\n",
      "    Class Responsibilities\n",
      "    ======================\n",
      "    > Store and update personal details of the employee\n",
      "    > Save to database: Needs to handle database connections, know which database to connect\n",
      "    ========Organization Level Operation========\n",
      "    > Promote the employee: Might require update in different objects\n",
      "    > Transfer employee: Might require update in different objects\n",
      "    \n"
     ]
    }
   ],
   "source": []
  },
  {
   "cell_type": "code",
   "execution_count": null,
   "id": "e8827e00",
   "metadata": {},
   "outputs": [],
   "source": []
  }
 ],
 "metadata": {
  "kernelspec": {
   "display_name": "Python 3 (ipykernel)",
   "language": "python",
   "name": "python3"
  },
  "language_info": {
   "codemirror_mode": {
    "name": "ipython",
    "version": 3
   },
   "file_extension": ".py",
   "mimetype": "text/x-python",
   "name": "python",
   "nbconvert_exporter": "python",
   "pygments_lexer": "ipython3",
   "version": "3.11.5"
  }
 },
 "nbformat": 4,
 "nbformat_minor": 5
}
